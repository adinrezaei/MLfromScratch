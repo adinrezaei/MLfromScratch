{
 "cells": [
  {
   "cell_type": "code",
   "execution_count": 2,
   "id": "67e7e5a4-3296-43c1-9047-40a0ca300c15",
   "metadata": {},
   "outputs": [],
   "source": [
    "import numpy as np\n",
    "import pandas as pd\n",
    "import random\n",
    "import matplotlib.pyplot as plt\n",
    "\n"
   ]
  },
  {
   "cell_type": "markdown",
   "id": "55fbe2e7-7b43-4caa-a3be-c402af4a23b7",
   "metadata": {},
   "source": [
    "# generate training and test sets"
   ]
  },
  {
   "cell_type": "code",
   "execution_count": 167,
   "id": "704d0db3-05fd-4d16-bb82-a5ca8ba122b6",
   "metadata": {},
   "outputs": [],
   "source": [
    "def Generate_data(n):\n",
    "    X = np.random.uniform(0,1,n).reshape(-1,1)\n",
    "    Noise = np.random.normal(0,0.3, n).reshape(-1,1) \n",
    "    t = np.sin(2*np.pi*X) + Noise\n",
    "    return X, t\n",
    "\n",
    "n_train = 10\n",
    "n_test = 100\n",
    "X_train, t_train = Generate_data(n_train)\n",
    "X_test, t_test = Generate_data(n_test)"
   ]
  },
  {
   "cell_type": "code",
   "execution_count": 168,
   "id": "15a06a5a-bf9f-426d-aed5-a5ee5c383b54",
   "metadata": {},
   "outputs": [
    {
     "data": {
      "text/plain": [
       "(10, 1)"
      ]
     },
     "execution_count": 168,
     "metadata": {},
     "output_type": "execute_result"
    }
   ],
   "source": [
    "X_train.shape"
   ]
  },
  {
   "cell_type": "code",
   "execution_count": 169,
   "id": "e43fde70-ca87-483f-8909-3a1ba8effdf6",
   "metadata": {},
   "outputs": [
    {
     "name": "stdout",
     "output_type": "stream",
     "text": [
      "[[0.32508308]\n",
      " [0.30011892]\n",
      " [0.00973168]\n",
      " [0.58683647]\n",
      " [0.6045721 ]\n",
      " [0.57878754]\n",
      " [0.95101501]\n",
      " [0.61180912]\n",
      " [0.60068022]\n",
      " [0.69019274]]\n"
     ]
    }
   ],
   "source": [
    "print(X_train)"
   ]
  },
  {
   "cell_type": "code",
   "execution_count": 170,
   "id": "ca81b7d3-1a88-42b6-8229-a7a66d321bd7",
   "metadata": {},
   "outputs": [
    {
     "data": {
      "text/plain": [
       "array([[1.05679007e-01],\n",
       "       [9.00713690e-02],\n",
       "       [9.47056172e-05],\n",
       "       [3.44377048e-01],\n",
       "       [3.65507421e-01],\n",
       "       [3.34995015e-01],\n",
       "       [9.04429550e-01],\n",
       "       [3.74310394e-01],\n",
       "       [3.60816722e-01],\n",
       "       [4.76366018e-01]])"
      ]
     },
     "execution_count": 170,
     "metadata": {},
     "output_type": "execute_result"
    }
   ],
   "source": [
    "np.multiply(X_train,X_train)"
   ]
  },
  {
   "cell_type": "code",
   "execution_count": 171,
   "id": "58555728-27d4-496b-84b6-ac5f8805c4b5",
   "metadata": {},
   "outputs": [
    {
     "data": {
      "text/plain": [
       "(10, 10)"
      ]
     },
     "execution_count": 171,
     "metadata": {},
     "output_type": "execute_result"
    }
   ],
   "source": [
    "M = 9\n",
    "Phi = np.zeros([X_train.shape[0],M+1])  # Creating a [n,M+1] matrix\n",
    "Phi.shape"
   ]
  },
  {
   "cell_type": "code",
   "execution_count": 172,
   "id": "cbbbc807-1056-4067-87b4-30bea95c4990",
   "metadata": {},
   "outputs": [],
   "source": [
    "for i in range(M+1):\n",
    "    Phi[:,i] = (X_train**(i)).reshape(-1,)      # reshape(-1,) converts a matrix to a vector"
   ]
  },
  {
   "cell_type": "code",
   "execution_count": 173,
   "id": "e1c0c1d5-1e4b-4ceb-813e-97e0b72b4276",
   "metadata": {},
   "outputs": [],
   "source": [
    "def Polynomial(M, X):\n",
    "    # M is the polynomial degree\n",
    "    # M is the data (could be either training or testing set)\n",
    "    Phi = np.zeros([X.shape[0],M+1])  # Creating a [n,M+1] matrix\n",
    "    for i in range(M+1):\n",
    "        Phi[:,i] = (X**(i)).reshape(-1,)      # reshape(-1,) converts a matrix to a vector\n",
    "    return Phi"
   ]
  },
  {
   "cell_type": "code",
   "execution_count": 174,
   "id": "cacab65a-b009-4da3-853e-1af3f65e332c",
   "metadata": {},
   "outputs": [],
   "source": [
    "M = 5\n",
    "Phi_train = Polynomial(M, X_train)\n",
    "Phi_test = Polynomial(M, X_test)"
   ]
  },
  {
   "cell_type": "code",
   "execution_count": 175,
   "id": "c4243aa8-16e0-48b3-9cc4-27e70819c5b8",
   "metadata": {},
   "outputs": [],
   "source": [
    "def LinearRegression_train(X,t):\n",
    "    # We want to learn Ws (parameters of the model) from training set, so we need both targets and features as the input\n",
    "    # of the linear regression model\n",
    "    Xp = np.linalg.pinv(X)\n",
    "    W = np.dot(Xp,t)\n",
    "    y = np.dot(X,W)\n",
    "    \n",
    "    return W, y\n",
    "\n",
    "def LinearRegression_test(X,W):\n",
    "    # Since we already learned W from the training set, we use it in the test phase to obtain our predictions (y)\n",
    "    y = np.dot(X,W)\n",
    "    return y"
   ]
  },
  {
   "cell_type": "code",
   "execution_count": 176,
   "id": "ac9550fd-5955-43fa-b804-d4490a5a414a",
   "metadata": {},
   "outputs": [],
   "source": [
    "W, Y_train =  LinearRegression_train(Phi_train,t_train)\n",
    "Y_test = LinearRegression_test(Phi_test,W)\n",
    "\n",
    "Error_train = np.linalg.norm(t_train - Y_train)\n",
    "Error_test = np.linalg.norm(t_test - Y_test)"
   ]
  },
  {
   "cell_type": "code",
   "execution_count": 177,
   "id": "398aeff3-01b6-4456-89bf-c56357917b50",
   "metadata": {},
   "outputs": [
    {
     "name": "stdout",
     "output_type": "stream",
     "text": [
      "0.7279750948470731 7.757397210804244\n"
     ]
    }
   ],
   "source": [
    "print(Error_train, Error_test)"
   ]
  },
  {
   "cell_type": "code",
   "execution_count": 178,
   "id": "81783559-1b25-4618-9a9f-68dbbf3aca4f",
   "metadata": {},
   "outputs": [],
   "source": [
    "max_M = 10\n",
    "Error_train_ls = np.zeros([max_M,1])\n",
    "Error_test_ls = np.zeros([max_M,1])\n",
    "for M in range(max_M):\n",
    "    Phi_train = Polynomial(M, X_train)\n",
    "    Phi_test = Polynomial(M, X_test)\n",
    "\n",
    "    W, Y_train =  LinearRegression_train(Phi_train,t_train)\n",
    "    Y_test = LinearRegression_test(Phi_test,W)\n",
    "\n",
    "    Error_train = np.sqrt(np.linalg.norm(t_train - Y_train)/n_train)\n",
    "    Error_test = np.sqrt(np.linalg.norm(t_test - Y_test)/n_test)\n",
    "    \n",
    "    Error_train_ls[M,0] = Error_train\n",
    "    Error_test_ls[M,0] = Error_test\n",
    "    "
   ]
  },
  {
   "cell_type": "code",
   "execution_count": 179,
   "id": "954647bf-4875-4e8e-abda-9c77b1fe14ed",
   "metadata": {},
   "outputs": [
    {
     "data": {
      "text/plain": [
       "(array([-50.,   0.,  50., 100., 150., 200., 250., 300., 350., 400.]),\n",
       " [Text(0, 0, ''),\n",
       "  Text(0, 0, ''),\n",
       "  Text(0, 0, ''),\n",
       "  Text(0, 0, ''),\n",
       "  Text(0, 0, ''),\n",
       "  Text(0, 0, ''),\n",
       "  Text(0, 0, ''),\n",
       "  Text(0, 0, ''),\n",
       "  Text(0, 0, ''),\n",
       "  Text(0, 0, '')])"
      ]
     },
     "execution_count": 179,
     "metadata": {},
     "output_type": "execute_result"
    },
    {
     "data": {
      "image/png": "[encoded data removed]",
      "text/plain": [
       "<Figure size 640x480 with 1 Axes>"
      ]
     },
     "metadata": {
      "needs_background": "light"
     },
     "output_type": "display_data"
    }
   ],
   "source": [
    "Font = 18\n",
    "plt.figure(figsize=(8,6), dpi = 80)\n",
    "plt.plot(Error_train_ls, 'o-',label = 'Train')\n",
    "plt.plot(Error_test_ls,'o-', label = 'Test')\n",
    "plt.legend(fontsize = Font)\n",
    "plt.ylabel('Error', fontsize = Font)\n",
    "plt.xlabel('M of Polynomial', fontsize = Font)\n",
    "plt.xticks(fontsize = Font)\n",
    "plt.yticks(fontsize = Font)"
   ]
  },
  {
   "cell_type": "code",
   "execution_count": 180,
   "id": "f61e3178-4408-4baa-8aa0-233b910839dc",
   "metadata": {},
   "outputs": [
    {
     "data": {
      "text/plain": [
       "array([[0.],\n",
       "       [0.],\n",
       "       [0.],\n",
       "       [0.],\n",
       "       [0.],\n",
       "       [0.],\n",
       "       [0.],\n",
       "       [0.],\n",
       "       [0.],\n",
       "       [0.]])"
      ]
     },
     "execution_count": 180,
     "metadata": {},
     "output_type": "execute_result"
    }
   ],
   "source": [
    "Error_train_ls = np.zeros([max_M,1])\n",
    "Error_train_ls"
   ]
  },
  {
   "cell_type": "code",
   "execution_count": 183,
   "id": "29e3cbd2-0b41-451a-a53b-18c87c3e82ba",
   "metadata": {},
   "outputs": [
    {
     "data": {
      "text/plain": [
       "array([[-2.09386857e-06],\n",
       "       [ 2.47918419e-04],\n",
       "       [-3.58565012e-03],\n",
       "       [ 2.33771402e-02],\n",
       "       [-8.65202535e-02],\n",
       "       [ 1.97492827e-01],\n",
       "       [-2.84258684e-01],\n",
       "       [ 2.51880602e-01],\n",
       "       [-1.25630720e-01],\n",
       "       [ 2.70041109e-02]])"
      ]
     },
     "execution_count": 183,
     "metadata": {},
     "output_type": "execute_result"
    }
   ],
   "source": [
    "W_norm = W/(np.sum(np.abs(W)))\n",
    "W_norm"
   ]
  },
  {
   "cell_type": "code",
   "execution_count": null,
   "id": "3ffcb89a-eb10-4c54-90b1-94b1e0227eec",
   "metadata": {},
   "outputs": [],
   "source": []
  }
 ],
 "metadata": {
  "kernelspec": {
   "display_name": "Python 3 (ipykernel)",
   "language": "python",
   "name": "python3"
  },
  "language_info": {
   "codemirror_mode": {
    "name": "ipython",
    "version": 3
   },
   "file_extension": ".py",
   "mimetype": "text/x-python",
   "name": "python",
   "nbconvert_exporter": "python",
   "pygments_lexer": "ipython3",
   "version": "3.9.7"
  }
 },
 "nbformat": 4,
 "nbformat_minor": 5
}
